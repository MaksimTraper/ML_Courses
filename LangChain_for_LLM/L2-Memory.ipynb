{
 "cells": [
  {
   "cell_type": "markdown",
   "id": "a786c77c",
   "metadata": {},
   "source": [
    "# LangChain: Memory\n",
    "\n",
    "## Outline\n",
    "* ConversationBufferMemory\n",
    "* ConversationBufferWindowMemory\n",
    "* ConversationTokenBufferMemory\n",
    "* ConversationSummaryMemory"
   ]
  },
  {
   "cell_type": "markdown",
   "id": "1297dcd5",
   "metadata": {},
   "source": [
    "## ConversationBufferMemory"
   ]
  },
  {
   "cell_type": "code",
   "execution_count": 11,
   "id": "a1f518f5",
   "metadata": {
    "height": 132,
    "tags": []
   },
   "outputs": [],
   "source": [
    "import os\n",
    "\n",
    "from dotenv import load_dotenv, find_dotenv\n",
    "_ = load_dotenv(find_dotenv()) # read local .env file\n",
    "\n",
    "import warnings\n",
    "warnings.filterwarnings('ignore')"
   ]
  },
  {
   "cell_type": "code",
   "execution_count": 12,
   "id": "20ad6fe2",
   "metadata": {
    "height": 81,
    "tags": []
   },
   "outputs": [],
   "source": [
    "from langchain.chat_models.gigachat import GigaChat\n",
    "from langchain.chains import ConversationChain\n",
    "from langchain.memory import ConversationBufferMemory\n"
   ]
  },
  {
   "cell_type": "markdown",
   "id": "5c3b124d",
   "metadata": {},
   "source": [
    "AUTH_DATA = os.environ['GIGACHAT_API_KEY']\n",
    "\n",
    "llm = GigaChat(temperature=0.5, verify_ssl_certs=False, credentials=AUTH_DATA, scope='GIGACHAT_API_PERS')"
   ]
  },
  {
   "cell_type": "markdown",
   "id": "1de16989",
   "metadata": {},
   "source": [
    "Создадаим объект *memory* класса ***ConversationBufferMemory***\n",
    "\n",
    "Класс ***ConversationBufferMemory*** отвечает за хранение диалогов с языковой моделью.\n",
    "\n",
    "Соответственно объекты класса ***ConversationChain*** отвечает за интерфейс ведения диалога с языковой моделью. При создании объекта в качестве параметров передаётся ранее объявленная модель и буфер диалога."
   ]
  },
  {
   "cell_type": "code",
   "execution_count": 18,
   "id": "88bdf13d",
   "metadata": {
    "height": 132,
    "tags": []
   },
   "outputs": [],
   "source": [
    "memory = ConversationBufferMemory()\n",
    "conversation = ConversationChain(\n",
    "    llm=llm, \n",
    "    memory = memory,\n",
    "    verbose=True\n",
    ")"
   ]
  },
  {
   "cell_type": "code",
   "execution_count": 19,
   "id": "db24677d",
   "metadata": {
    "height": 30,
    "tags": []
   },
   "outputs": [
    {
     "name": "stdout",
     "output_type": "stream",
     "text": [
      "\n",
      "\n",
      "\u001b[1m> Entering new ConversationChain chain...\u001b[0m\n",
      "Prompt after formatting:\n",
      "\u001b[32;1m\u001b[1;3mНиже приводится дружеский разговор между человеком и AI. AI разговорчив и предоставляет множество конкретных деталей из своего контекста. Если AI не знает ответа на вопрос, он честно говорит, что не знает.\n",
      "\n",
      "Текущий разговор:\n",
      "\n",
      "Human: Привет! Меня зовут Максим!\n",
      "AI:\u001b[0m\n",
      "\n",
      "\u001b[1m> Finished chain.\u001b[0m\n"
     ]
    },
    {
     "data": {
      "text/plain": [
       "'Привет, Максим! Я рад с вами познакомиться. Как я могу вам помочь?'"
      ]
     },
     "execution_count": 19,
     "metadata": {},
     "output_type": "execute_result"
    }
   ],
   "source": [
    "conversation.predict(input=\"Привет! Меня зовут Максим!\")"
   ]
  },
  {
   "cell_type": "code",
   "execution_count": 20,
   "id": "cc3ef937",
   "metadata": {
    "height": 30,
    "tags": []
   },
   "outputs": [
    {
     "name": "stdout",
     "output_type": "stream",
     "text": [
      "\n",
      "\n",
      "\u001b[1m> Entering new ConversationChain chain...\u001b[0m\n",
      "Prompt after formatting:\n",
      "\u001b[32;1m\u001b[1;3mНиже приводится дружеский разговор между человеком и AI. AI разговорчив и предоставляет множество конкретных деталей из своего контекста. Если AI не знает ответа на вопрос, он честно говорит, что не знает.\n",
      "\n",
      "Текущий разговор:\n",
      "Human: Привет! Меня зовут Максим!\n",
      "AI: Привет, Максим! Я рад с вами познакомиться. Как я могу вам помочь?\n",
      "Human: Сколько будет 2+3?\n",
      "AI:\u001b[0m\n",
      "\n",
      "\u001b[1m> Finished chain.\u001b[0m\n"
     ]
    },
    {
     "data": {
      "text/plain": [
       "'5'"
      ]
     },
     "execution_count": 20,
     "metadata": {},
     "output_type": "execute_result"
    }
   ],
   "source": [
    "conversation.predict(input=\"Сколько будет 2+3?\")"
   ]
  },
  {
   "cell_type": "code",
   "execution_count": 21,
   "id": "acf3339a",
   "metadata": {
    "height": 30,
    "tags": []
   },
   "outputs": [
    {
     "name": "stdout",
     "output_type": "stream",
     "text": [
      "\n",
      "\n",
      "\u001b[1m> Entering new ConversationChain chain...\u001b[0m\n",
      "Prompt after formatting:\n",
      "\u001b[32;1m\u001b[1;3mНиже приводится дружеский разговор между человеком и AI. AI разговорчив и предоставляет множество конкретных деталей из своего контекста. Если AI не знает ответа на вопрос, он честно говорит, что не знает.\n",
      "\n",
      "Текущий разговор:\n",
      "Human: Привет! Меня зовут Максим!\n",
      "AI: Привет, Максим! Я рад с вами познакомиться. Как я могу вам помочь?\n",
      "Human: Сколько будет 2+3?\n",
      "AI: 5\n",
      "Human: Как меня зовут?\n",
      "AI:\u001b[0m\n",
      "\n",
      "\u001b[1m> Finished chain.\u001b[0m\n"
     ]
    },
    {
     "data": {
      "text/plain": [
       "'Максим'"
      ]
     },
     "execution_count": 21,
     "metadata": {},
     "output_type": "execute_result"
    }
   ],
   "source": [
    "conversation.predict(input=\"Как меня зовут?\")"
   ]
  },
  {
   "cell_type": "markdown",
   "id": "ff590cd4",
   "metadata": {},
   "source": [
    "Как мы видим, назвав в первом сообщении своё имя, а в третьем - спросив его, модель верно ответила на этот вопрос. Соответственно, это подтверждение того, что с ней ввёлся диалог и сообщения не были изолированы друг от друга.\n",
    "\n",
    "Следующей командой можно вывести весь буфер памяти диалога"
   ]
  },
  {
   "cell_type": "code",
   "execution_count": 22,
   "id": "2529400d",
   "metadata": {
    "height": 30,
    "tags": []
   },
   "outputs": [
    {
     "name": "stdout",
     "output_type": "stream",
     "text": [
      "Human: Привет! Меня зовут Максим!\n",
      "AI: Привет, Максим! Я рад с вами познакомиться. Как я могу вам помочь?\n",
      "Human: Сколько будет 2+3?\n",
      "AI: 5\n",
      "Human: Как меня зовут?\n",
      "AI: Максим\n"
     ]
    }
   ],
   "source": [
    "print(memory.buffer)"
   ]
  },
  {
   "cell_type": "code",
   "execution_count": 23,
   "id": "5018cb0a",
   "metadata": {
    "height": 30,
    "tags": []
   },
   "outputs": [
    {
     "data": {
      "text/plain": [
       "{'history': 'Human: Привет! Меня зовут Максим!\\nAI: Привет, Максим! Я рад с вами познакомиться. Как я могу вам помочь?\\nHuman: Сколько будет 2+3?\\nAI: 5\\nHuman: Как меня зовут?\\nAI: Максим'}"
      ]
     },
     "execution_count": 23,
     "metadata": {},
     "output_type": "execute_result"
    }
   ],
   "source": [
    "memory.load_memory_variables({})"
   ]
  },
  {
   "cell_type": "markdown",
   "id": "004f2b7b",
   "metadata": {},
   "source": [
    "На самом деле, каждый запрос к модели - независим."
   ]
  },
  {
   "cell_type": "code",
   "execution_count": 24,
   "id": "14219b70",
   "metadata": {
    "height": 30,
    "tags": []
   },
   "outputs": [],
   "source": [
    "memory = ConversationBufferMemory()"
   ]
  },
  {
   "cell_type": "code",
   "execution_count": 25,
   "id": "a36e9905",
   "metadata": {
    "height": 47,
    "tags": []
   },
   "outputs": [],
   "source": [
    "memory.save_context({\"input\": \"Привет!\"}, \n",
    "                    {\"output\": \"Как ты?\"})"
   ]
  },
  {
   "cell_type": "code",
   "execution_count": 26,
   "id": "61631b1f",
   "metadata": {
    "height": 30,
    "tags": []
   },
   "outputs": [
    {
     "name": "stdout",
     "output_type": "stream",
     "text": [
      "Human: Привет!\n",
      "AI: Как ты?\n"
     ]
    }
   ],
   "source": [
    "print(memory.buffer)"
   ]
  },
  {
   "cell_type": "code",
   "execution_count": 27,
   "id": "a2fdf9ec",
   "metadata": {
    "height": 30,
    "tags": []
   },
   "outputs": [
    {
     "data": {
      "text/plain": [
       "{'history': 'Human: Привет!\\nAI: Как ты?'}"
      ]
     },
     "execution_count": 27,
     "metadata": {},
     "output_type": "execute_result"
    }
   ],
   "source": [
    "memory.load_memory_variables({})"
   ]
  },
  {
   "cell_type": "code",
   "execution_count": 28,
   "id": "7ca79256",
   "metadata": {
    "height": 47,
    "tags": []
   },
   "outputs": [],
   "source": [
    "memory.save_context({\"input\": \"Да потихоньку.\"}, \n",
    "                    {\"output\": \"Кул!\"})"
   ]
  },
  {
   "cell_type": "code",
   "execution_count": 29,
   "id": "890a4497",
   "metadata": {
    "height": 30,
    "tags": []
   },
   "outputs": [
    {
     "data": {
      "text/plain": [
       "{'history': 'Human: Привет!\\nAI: Как ты?\\nHuman: Да потихоньку.\\nAI: Кул!'}"
      ]
     },
     "execution_count": 29,
     "metadata": {},
     "output_type": "execute_result"
    }
   ],
   "source": [
    "memory.load_memory_variables({})"
   ]
  },
  {
   "cell_type": "code",
   "execution_count": 33,
   "id": "8d7ab0f7",
   "metadata": {},
   "outputs": [
    {
     "name": "stdout",
     "output_type": "stream",
     "text": [
      "\n",
      "\n",
      "\u001b[1m> Entering new ConversationChain chain...\u001b[0m\n",
      "Prompt after formatting:\n",
      "\u001b[32;1m\u001b[1;3mНиже приводится дружеский разговор между человеком и AI. AI разговорчив и предоставляет множество конкретных деталей из своего контекста. Если AI не знает ответа на вопрос, он честно говорит, что не знает.\n",
      "\n",
      "Текущий разговор:\n",
      "Human: Привет!\n",
      "AI: Как ты?\n",
      "Human: Да потихоньку.\n",
      "AI: Кул!\n",
      "Human: Ну и чего?\n",
      "AI: Я просто хотел узнать, как у тебя дела.\n",
      "Human: Ну и чего?\n",
      "AI: Я просто хотел узнать, как у тебя дела.\n",
      "Human: Ну и чего?\n",
      "AI:\u001b[0m\n",
      "\n",
      "\u001b[1m> Finished chain.\u001b[0m\n"
     ]
    },
    {
     "data": {
      "text/plain": [
       "'Я просто хотел узнать, как у тебя дела.'"
      ]
     },
     "execution_count": 33,
     "metadata": {},
     "output_type": "execute_result"
    }
   ],
   "source": [
    "conversation = ConversationChain(\n",
    "    llm=llm, \n",
    "    memory = memory,\n",
    "    verbose=True\n",
    ")\n",
    "\n",
    "conversation.predict(input='Ну и чего?')"
   ]
  },
  {
   "cell_type": "markdown",
   "id": "5010429d",
   "metadata": {},
   "source": [
    "Как видим, мы смогли вручную смоделировать диалог с моделью, а затем на основе этого уже продолжить общаться в контексте вручную смоделированного диалога.\n",
    "\n",
    "Соответственно можно сделать вывод, что любое сообщение в \"диалоге\" для модели - это очередной изолированный запрос с передачей в неё промпта со всем предыдущим диалогом + новым последним сообщением от пользователя.\n",
    "\n",
    "И чем длиннее диалог, тем больше токенов тратится на каждый новый запрос. \n",
    "\n",
    "Помимо этого, с увеличением объема диалога, модель может начать \"забывать\" то, о чём говорилось в начале, так как израсходуется лимит её контекстного окна (хотя обычно за это не стоит переживать, так как у нынешних моделей оно достаточно большое)"
   ]
  },
  {
   "cell_type": "markdown",
   "id": "cf98e9ff",
   "metadata": {
    "tags": []
   },
   "source": [
    "## ConversationBufferWindowMemory"
   ]
  },
  {
   "cell_type": "markdown",
   "id": "576ec1e4",
   "metadata": {},
   "source": [
    "Далее рассмотрим класс ***ConversationBufferWindowMemory***, которой является тем же буфером диалога с одной особенностью - мы задаём размер скользящего окна запоминаемого диалога."
   ]
  },
  {
   "cell_type": "code",
   "execution_count": 35,
   "id": "66eeccc3",
   "metadata": {
    "height": 30,
    "tags": []
   },
   "outputs": [],
   "source": [
    "from langchain.memory import ConversationBufferWindowMemory"
   ]
  },
  {
   "cell_type": "code",
   "execution_count": 36,
   "id": "3ea6233e",
   "metadata": {
    "height": 30,
    "tags": []
   },
   "outputs": [],
   "source": [
    "# k = 1 => запоминается одно сообщение от Human и AI\n",
    "memory = ConversationBufferWindowMemory(k=1)               "
   ]
  },
  {
   "cell_type": "code",
   "execution_count": 37,
   "id": "dc4553fb",
   "metadata": {
    "height": 98,
    "tags": []
   },
   "outputs": [],
   "source": [
    "memory.save_context({\"input\": \"Hi\"},\n",
    "                    {\"output\": \"What's up\"})\n",
    "memory.save_context({\"input\": \"Not much, just hanging\"},\n",
    "                    {\"output\": \"Cool\"})\n"
   ]
  },
  {
   "cell_type": "code",
   "execution_count": 38,
   "id": "6a788403",
   "metadata": {
    "height": 30,
    "tags": []
   },
   "outputs": [
    {
     "data": {
      "text/plain": [
       "{'history': 'Human: Not much, just hanging\\nAI: Cool'}"
      ]
     },
     "execution_count": 38,
     "metadata": {},
     "output_type": "execute_result"
    }
   ],
   "source": [
    "memory.load_memory_variables({})"
   ]
  },
  {
   "cell_type": "code",
   "execution_count": 39,
   "id": "4087bc87",
   "metadata": {
    "height": 132,
    "tags": []
   },
   "outputs": [],
   "source": [
    "memory = ConversationBufferWindowMemory(k=1)\n",
    "conversation = ConversationChain(\n",
    "    llm=llm, \n",
    "    memory = memory,\n",
    "    verbose=False\n",
    ")"
   ]
  },
  {
   "cell_type": "code",
   "execution_count": 40,
   "id": "4faaa952",
   "metadata": {
    "height": 30,
    "tags": []
   },
   "outputs": [
    {
     "name": "stderr",
     "output_type": "stream",
     "text": [
      "AUTHENTICATION ERROR\n"
     ]
    },
    {
     "data": {
      "text/plain": [
       "'Привет, Максим! Я рад с вами познакомиться. Как прошёл ваш день?'"
      ]
     },
     "execution_count": 40,
     "metadata": {},
     "output_type": "execute_result"
    }
   ],
   "source": [
    "conversation.predict(input=\"Привет, я Максим!\")"
   ]
  },
  {
   "cell_type": "code",
   "execution_count": 41,
   "id": "bb20ddaa",
   "metadata": {
    "height": 30,
    "tags": []
   },
   "outputs": [
    {
     "data": {
      "text/plain": [
       "'4'"
      ]
     },
     "execution_count": 41,
     "metadata": {},
     "output_type": "execute_result"
    }
   ],
   "source": [
    "conversation.predict(input=\"Сколько будет 1+3?\")"
   ]
  },
  {
   "cell_type": "code",
   "execution_count": 42,
   "id": "489b2194",
   "metadata": {
    "height": 30,
    "tags": []
   },
   "outputs": [
    {
     "data": {
      "text/plain": [
       "'Ваше имя не было предоставлено мне для обработки.'"
      ]
     },
     "execution_count": 42,
     "metadata": {},
     "output_type": "execute_result"
    }
   ],
   "source": [
    "conversation.predict(input=\"Как меня зовут?\")"
   ]
  },
  {
   "cell_type": "code",
   "execution_count": 43,
   "id": "76234291",
   "metadata": {},
   "outputs": [
    {
     "name": "stdout",
     "output_type": "stream",
     "text": [
      "Human: Как меня зовут?\n",
      "AI: Ваше имя не было предоставлено мне для обработки.\n"
     ]
    }
   ],
   "source": [
    "print(memory.buffer)"
   ]
  },
  {
   "cell_type": "markdown",
   "id": "d2931b92",
   "metadata": {},
   "source": [
    "## ConversationTokenBufferMemory"
   ]
  },
  {
   "cell_type": "markdown",
   "id": "9828798b",
   "metadata": {},
   "source": [
    "Следующая разновидность буфера ограничивает объем запоминаемого диалога по количеству токенов. Это удобно в том смысле, что можно предсказать максимальную цену одного запроса к модели (т.к. стоимость обращения к модели через API всегда рассчитывается на основе количества токенов запроса). Все самые старые сообщения, которые не вошли в лимит токенов - удаляются."
   ]
  },
  {
   "cell_type": "code",
   "execution_count": 44,
   "id": "fb9020ed",
   "metadata": {
    "height": 64,
    "tags": []
   },
   "outputs": [],
   "source": [
    "from langchain.memory import ConversationTokenBufferMemory"
   ]
  },
  {
   "cell_type": "code",
   "execution_count": 47,
   "id": "43582ee6",
   "metadata": {
    "height": 132,
    "tags": []
   },
   "outputs": [],
   "source": [
    "memory = ConversationTokenBufferMemory(llm=llm, max_token_limit=25)\n",
    "memory.save_context({\"input\": \"Что такое ИИ\"},\n",
    "                    {\"output\": \"Безумия!\"})\n",
    "memory.save_context({\"input\": \"Обратное распространение ошибки, что это?\"},\n",
    "                    {\"output\": \"Красота!\"})\n",
    "memory.save_context({\"input\": \"Кто такие чатботы?\"}, \n",
    "                    {\"output\": \"Умельцы!\"})"
   ]
  },
  {
   "cell_type": "code",
   "execution_count": 48,
   "id": "284288e1",
   "metadata": {
    "height": 30,
    "tags": []
   },
   "outputs": [
    {
     "data": {
      "text/plain": [
       "{'history': 'AI: Безумия!\\nHuman: Обратное распространение ошибки, что это?\\nAI: Красота!\\nHuman: Кто такие чатботы?\\nAI: Умельцы!'}"
      ]
     },
     "execution_count": 48,
     "metadata": {},
     "output_type": "execute_result"
    }
   ],
   "source": [
    "memory.load_memory_variables({})"
   ]
  },
  {
   "cell_type": "markdown",
   "id": "87c3c81f",
   "metadata": {},
   "source": [
    "Как можно увидеть, в лимит 25 токенов не уместилось первое сообщение от Human."
   ]
  },
  {
   "cell_type": "markdown",
   "id": "5ff55d5d",
   "metadata": {},
   "source": [
    "## ConversationSummaryMemory"
   ]
  },
  {
   "cell_type": "markdown",
   "id": "dd012203",
   "metadata": {},
   "source": [
    "Последний класс - самый интересный!\n",
    "\n",
    "***ConversationSummaryMemory*** - это класс, реализующий механизм ограничения памяти по токенам и при превышении лимита делающий суммаризацию (пересказ) всего предыдущего диалога, чтобы уменьшить количество используемых токенов, но не терять предыдущую информацию."
   ]
  },
  {
   "cell_type": "code",
   "execution_count": 49,
   "id": "72dcf8b1",
   "metadata": {
    "height": 30,
    "tags": []
   },
   "outputs": [],
   "source": [
    "from langchain.memory import ConversationSummaryBufferMemory"
   ]
  },
  {
   "cell_type": "code",
   "execution_count": 50,
   "id": "4a5b238f",
   "metadata": {
    "height": 285,
    "tags": []
   },
   "outputs": [],
   "source": [
    "# create a long string\n",
    "schedule = \"Сегодня в 10 вечера собираемся на Думской на день рождение Крис!\\\n",
    "            Там будут все наши бывшие одноклассники - Митя, Ден, Саня и многие другие.\\\n",
    "            Ты же наверняка давно с ними не виделся, постоянно в работе. Приходи, хоть отдохнёшь \\\n",
    "            от своей заунывной работы. Кстати, не забудь про подарок. Крис всё же девочка требовательная \\\n",
    "            так что постарайся не поскупиться. Благо ты у нас богач! Давай, на цифрах.\"\n",
    "\n",
    "memory = ConversationSummaryBufferMemory(llm=llm, max_token_limit=400)\n",
    "memory.save_context({\"input\": \"Привет!\"}, {\"output\": \"Как ты?\"})\n",
    "memory.save_context({\"input\": \"Да ничего так, откисаю.\"},\n",
    "                    {\"output\": \"Круто!\"})\n",
    "memory.save_context({\"input\": \"Какие планы на сегодня?\"}, \n",
    "                    {\"output\": f\"{schedule}\"})"
   ]
  },
  {
   "cell_type": "code",
   "execution_count": 51,
   "id": "2e4ecabe",
   "metadata": {
    "height": 30,
    "tags": []
   },
   "outputs": [
    {
     "data": {
      "text/plain": [
       "{'history': 'Human: Привет!\\nAI: Как ты?\\nHuman: Да ничего так, откисаю.\\nAI: Круто!\\nHuman: Какие планы на сегодня?\\nAI: Сегодня в 10 вечера собираемся на Думской на день рождение Крис!            Там будут все наши бывшие одноклассники - Митя, Ден, Саня и многие другие.            Ты же наверняка давно с ними не виделся, постоянно в работе. Приходи, хоть отдохнёшь             от своей заунывной работы. Кстати, не забудь про подарок. Крис всё же девочка требовательная             так что постарайся не поскупиться. Благо ты у нас богач! Давай, на цифрах.'}"
      ]
     },
     "execution_count": 51,
     "metadata": {},
     "output_type": "execute_result"
    }
   ],
   "source": [
    "memory.load_memory_variables({})"
   ]
  },
  {
   "cell_type": "markdown",
   "id": "bea3d97d",
   "metadata": {},
   "source": [
    "Пока всё осталось так, как есть. Попробуем ограничить количество токенов."
   ]
  },
  {
   "cell_type": "code",
   "execution_count": 54,
   "id": "901729fe",
   "metadata": {},
   "outputs": [],
   "source": [
    "# create a long string\n",
    "schedule = \"Сегодня в 10 вечера собираемся на Думской на день рождение Крис!\\\n",
    "            Там будут все наши бывшие одноклассники - Митя, Ден, Саня и многие другие.\\\n",
    "            Ты же наверняка давно с ними не виделся, постоянно в работе. Приходи, хоть отдохнёшь \\\n",
    "            от своей заунывной работы. Кстати, не забудь про подарок. Крис всё же девочка требовательная \\\n",
    "            так что постарайся не поскупиться. Благо ты у нас богач! Давай, на цифрах.\"\n",
    "\n",
    "memory = ConversationSummaryBufferMemory(llm=llm, max_token_limit=70)\n",
    "memory.save_context({\"input\": \"Привет!\"}, {\"output\": \"Как ты?\"})\n",
    "memory.save_context({\"input\": \"Да ничего так, откисаю.\"},\n",
    "                    {\"output\": \"Круто!\"})\n",
    "memory.save_context({\"input\": \"Какие планы на сегодня?\"}, \n",
    "                    {\"output\": f\"{schedule}\"})"
   ]
  },
  {
   "cell_type": "code",
   "execution_count": 55,
   "id": "4bc21bf7",
   "metadata": {},
   "outputs": [
    {
     "data": {
      "text/plain": [
       "{'history': 'System: Человеку предлагают присоединиться к встрече одноклассников на дне рождения Крис на Думской в 10 вечера. Он должен принести подарок, так как Крис требовательна.'}"
      ]
     },
     "execution_count": 55,
     "metadata": {},
     "output_type": "execute_result"
    }
   ],
   "source": [
    "memory.load_memory_variables({})"
   ]
  },
  {
   "cell_type": "markdown",
   "id": "1babf1d3",
   "metadata": {},
   "source": [
    "Здесь уже непосредственно можно увидеть реализацию механизма суммаризации всего предыдущего диалога.\n",
    "\n",
    "Попробуем продолжить диалог."
   ]
  },
  {
   "cell_type": "code",
   "execution_count": 58,
   "id": "6728edba",
   "metadata": {
    "height": 98,
    "tags": []
   },
   "outputs": [],
   "source": [
    "conversation = ConversationChain(\n",
    "    llm=llm, \n",
    "    memory = memory,\n",
    "    verbose=True\n",
    ")"
   ]
  },
  {
   "cell_type": "code",
   "execution_count": 59,
   "id": "9a221b1d",
   "metadata": {
    "height": 30,
    "tags": []
   },
   "outputs": [
    {
     "name": "stdout",
     "output_type": "stream",
     "text": [
      "\n",
      "\n",
      "\u001b[1m> Entering new ConversationChain chain...\u001b[0m\n",
      "Prompt after formatting:\n",
      "\u001b[32;1m\u001b[1;3mНиже приводится дружеский разговор между человеком и AI. AI разговорчив и предоставляет множество конкретных деталей из своего контекста. Если AI не знает ответа на вопрос, он честно говорит, что не знает.\n",
      "\n",
      "Текущий разговор:\n",
      "System: Человеку предлагают присоединиться к встрече одноклассников на дне рождения Крис на Думской в 10 вечера. Он должен принести подарок, так как Крис требовательна.\n",
      "Human: Кто-кто я?)\n",
      "AI: Вы, человек.\n",
      "Human: Где ещё раз встречаемся?\n",
      "AI:\u001b[0m\n",
      "\n",
      "\u001b[1m> Finished chain.\u001b[0m\n"
     ]
    },
    {
     "data": {
      "text/plain": [
       "'На дне рождении Крис на Думской в 10 вечера.'"
      ]
     },
     "execution_count": 59,
     "metadata": {},
     "output_type": "execute_result"
    }
   ],
   "source": [
    "conversation.predict(input=\"Где ещё раз встречаемся?\")"
   ]
  },
  {
   "cell_type": "markdown",
   "id": "c1c8e3ae",
   "metadata": {},
   "source": [
    "Данный механизм позволяет эффективнее вести диалог, тратя меньше токенов и не теряя важную информацию по ходу разговора."
   ]
  },
  {
   "cell_type": "markdown",
   "id": "e8d54233",
   "metadata": {},
   "source": [
    "# Альтернативные виды памяти"
   ]
  },
  {
   "cell_type": "markdown",
   "id": "67b81d87",
   "metadata": {},
   "source": [
    "## Векторная база данных\n",
    "\n",
    "Хранит текст в векторной базе данных и по запросу возвращает наиболее релевантные блоки текста.\n",
    "\n",
    "## Воспоминания сущностей\n",
    "\n",
    "Использую языковую модель, она запоминает детали об определенных сущностях.\n",
    "\n",
    "\n",
    "Вы также можете использовать несколько видов памяти в один момента. У примеру, буфер диалога + воспоминания о сущностях, чтобы вести разговор об одном и том же с несколькими людьми.\n",
    "\n",
    "Ещё можно хранить диалог в обычной базе данных, как например БД ключ-значение или реляционная БД."
   ]
  },
  {
   "cell_type": "markdown",
   "id": "f3fa0a84",
   "metadata": {},
   "source": []
  }
 ],
 "metadata": {
  "kernelspec": {
   "display_name": "env_gigachat",
   "language": "python",
   "name": "env_gigachat"
  },
  "language_info": {
   "codemirror_mode": {
    "name": "ipython",
    "version": 3
   },
   "file_extension": ".py",
   "mimetype": "text/x-python",
   "name": "python",
   "nbconvert_exporter": "python",
   "pygments_lexer": "ipython3",
   "version": "3.12.4"
  }
 },
 "nbformat": 4,
 "nbformat_minor": 5
}
