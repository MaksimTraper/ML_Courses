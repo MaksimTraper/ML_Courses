{
 "cells": [
  {
   "cell_type": "markdown",
   "id": "a3df44d6-62d0-4324-8052-419503a6b040",
   "metadata": {},
   "source": [
    "# OpenAI Function Calling\n"
   ]
  },
  {
   "cell_type": "code",
   "execution_count": 4,
   "id": "3d1a7aac-599c-4653-b497-49fe9a31a07d",
   "metadata": {
    "height": 132,
    "tags": []
   },
   "outputs": [],
   "source": [
    "import os\n",
    "from dotenv import load_dotenv, find_dotenv\n",
    "\n",
    "from gigachat import GigaChat\n",
    "from gigachat.models import Chat, Messages, MessagesRole, chat_completion\n",
    "\n",
    "_ = load_dotenv(find_dotenv())\n",
    "\n",
    "api_key  = os.getenv('GIGACHAT_API_KEY')\n",
    "\n",
    "giga = GigaChat(credentials=api_key, verify_ssl_certs=False)"
   ]
  },
  {
   "cell_type": "code",
   "execution_count": 5,
   "id": "e036b435-e842-40a3-8e1c-1d5d716394c6",
   "metadata": {
    "height": 251
   },
   "outputs": [],
   "source": [
    "import json\n",
    "\n",
    "# Пример фиктивной функции, жестко запрограммированной для возврата той же погоды\n",
    "# В рабочей среде это может быть ваш внутренний API или внешний API\n",
    "def get_current_weather(location, unit=\"celsius\"):\n",
    "    \"\"\"Get the current weather in a given location\"\"\"\n",
    "\n",
    "    weather_info = {\n",
    "        \"location\": location,\n",
    "        \"temperature\": \"22\",\n",
    "        \"unit\": unit,\n",
    "        \"forecast\": [\"sunny\", \"windy\"],\n",
    "    }\n",
    "    return json.dumps(weather_info)"
   ]
  },
  {
   "cell_type": "code",
   "execution_count": 6,
   "id": "290fae11-d9af-40f8-9b78-3d6a847737b2",
   "metadata": {
    "height": 336
   },
   "outputs": [],
   "source": [
    "functions = [\n",
    "    {\n",
    "        \"name\": \"get_current_weather\",\n",
    "        \"description\": \"Узнать погоду в заданной локации\",\n",
    "        \"parameters\": {\n",
    "            \"type\": \"object\",\n",
    "            \"properties\": {\n",
    "                \"location\": {\n",
    "                    \"type\": \"string\",\n",
    "                    \"description\": \"Город, например Санкт-Петербург\",\n",
    "                },\n",
    "                \"unit\": {\"type\": \"string\", \"enum\": [\"celsius\", \"fahrenheit\"]},\n",
    "            },\n",
    "            \"required\": [\"location\"],\n",
    "        },\n",
    "    }\n",
    "]"
   ]
  },
  {
   "cell_type": "code",
   "execution_count": 118,
   "id": "5b5e2abe-7cf0-4b00-8c08-b3df91d78eaa",
   "metadata": {
    "height": 132
   },
   "outputs": [],
   "source": [
    "messages = [\n",
    "    {\n",
    "        \"role\": \"user\",\n",
    "        \"content\": \"Какая погода в Boston по Фаренгейту?\"\n",
    "    }\n",
    "]"
   ]
  },
  {
   "cell_type": "code",
   "execution_count": 7,
   "id": "ffa6385a-db38-40fa-b2b8-6fa226913c46",
   "metadata": {
    "height": 149
   },
   "outputs": [],
   "source": [
    "def get_completition(messages: list, \n",
    "                     functions: list, \n",
    "                     function_call: str = 'auto') -> chat_completion.ChatCompletion:\n",
    "\n",
    "    payload = Chat(\n",
    "        messages=messages,\n",
    "        functions=functions,\n",
    "        function_call=function_call\n",
    "    )\n",
    "\n",
    "    response = giga.chat(payload)\n",
    "    return response"
   ]
  },
  {
   "cell_type": "code",
   "execution_count": 120,
   "id": "3c659afa",
   "metadata": {},
   "outputs": [],
   "source": [
    "response = get_completition(messages, functions)"
   ]
  },
  {
   "cell_type": "code",
   "execution_count": 121,
   "id": "7ea3d841",
   "metadata": {},
   "outputs": [
    {
     "name": "stdout",
     "output_type": "stream",
     "text": [
      "choices=[Choices(message=Messages(role='assistant', content='', function_call=FunctionCall(name='get_current_weather', arguments={'location': 'Boston', 'unit': 'fahrenheit'}), name=None, attachments=None, data_for_context=None, functions_state_id='80443227-aa68-4c9f-b197-7b13764763c8', id_=None), index=0, finish_reason='function_call')] created=1735908229 model='GigaChat:1.0.26.20' usage=Usage(prompt_tokens=117, completion_tokens=42, total_tokens=159) object_='chat.completion'\n"
     ]
    }
   ],
   "source": [
    "print(response)"
   ]
  },
  {
   "cell_type": "code",
   "execution_count": 123,
   "id": "5748f7ce-9c74-435f-b5dc-d04e627675e3",
   "metadata": {
    "height": 47
   },
   "outputs": [],
   "source": [
    "response_message = response.choices[0].message"
   ]
  },
  {
   "cell_type": "code",
   "execution_count": 124,
   "id": "9d8fa467-d9b3-4d62-b067-f6e8788b2907",
   "metadata": {
    "height": 31
   },
   "outputs": [
    {
     "data": {
      "text/plain": [
       "''"
      ]
     },
     "execution_count": 124,
     "metadata": {},
     "output_type": "execute_result"
    }
   ],
   "source": [
    "response_message.content"
   ]
  },
  {
   "cell_type": "code",
   "execution_count": 125,
   "id": "d58d13f4-d131-4f70-8b68-dca7be2073e2",
   "metadata": {
    "height": 31
   },
   "outputs": [
    {
     "data": {
      "text/plain": [
       "FunctionCall(name='get_current_weather', arguments={'location': 'Boston', 'unit': 'fahrenheit'})"
      ]
     },
     "execution_count": 125,
     "metadata": {},
     "output_type": "execute_result"
    }
   ],
   "source": [
    "response_message.function_call"
   ]
  },
  {
   "cell_type": "code",
   "execution_count": 126,
   "id": "675d9372-4388-4f18-b44c-e291668ea46d",
   "metadata": {
    "height": 47
   },
   "outputs": [],
   "source": [
    "args = response_message.function_call.arguments"
   ]
  },
  {
   "cell_type": "code",
   "execution_count": 127,
   "id": "3cbb1aec-454a-4a34-9a6b-351ee3759a3a",
   "metadata": {
    "height": 31
   },
   "outputs": [
    {
     "name": "stdout",
     "output_type": "stream",
     "text": [
      "Boston\n",
      "fahrenheit\n"
     ]
    },
    {
     "data": {
      "text/plain": [
       "'{\"location\": \"Boston\", \"temperature\": \"22\", \"unit\": \"fahrenheit\", \"forecast\": [\"sunny\", \"windy\"]}'"
      ]
     },
     "execution_count": 127,
     "metadata": {},
     "output_type": "execute_result"
    }
   ],
   "source": [
    "get_current_weather(**args)"
   ]
  },
  {
   "cell_type": "markdown",
   "id": "3774d311",
   "metadata": {},
   "source": [
    "* Pass a message that is not related to a function."
   ]
  },
  {
   "cell_type": "code",
   "execution_count": 128,
   "id": "8c2cbe66-784a-40ff-a268-7bd0f984d5b8",
   "metadata": {
    "height": 116
   },
   "outputs": [],
   "source": [
    "messages = [\n",
    "    {\n",
    "        \"role\": \"user\",\n",
    "        \"content\": \"hi!\",\n",
    "    }\n",
    "]"
   ]
  },
  {
   "cell_type": "code",
   "execution_count": 129,
   "id": "8300232d-4f02-478b-bba2-d47173422866",
   "metadata": {
    "height": 132
   },
   "outputs": [],
   "source": [
    "response = get_completition(messages, functions)"
   ]
  },
  {
   "cell_type": "code",
   "execution_count": 130,
   "id": "3e35564e-8f66-4b06-b14a-03e24a202a47",
   "metadata": {
    "height": 31
   },
   "outputs": [
    {
     "name": "stdout",
     "output_type": "stream",
     "text": [
      "choices=[Choices(message=Messages(role='assistant', content='Hello! How can I assist you today?', function_call=None, name=None, attachments=None, data_for_context=None, functions_state_id='8ddcfb6a-6676-4844-a165-2346350f10ff', id_=None), index=0, finish_reason='stop')] created=1735908272 model='GigaChat:1.0.26.20' usage=Usage(prompt_tokens=107, completion_tokens=14, total_tokens=121) object_='chat.completion'\n"
     ]
    }
   ],
   "source": [
    "print(response)"
   ]
  },
  {
   "cell_type": "markdown",
   "id": "af7aae46",
   "metadata": {},
   "source": [
    "* Pass additional parameters to force the model to use or not a function."
   ]
  },
  {
   "cell_type": "code",
   "execution_count": 131,
   "id": "e2af9f72-1cb9-4a97-b030-22562ecab99d",
   "metadata": {
    "height": 268
   },
   "outputs": [
    {
     "name": "stdout",
     "output_type": "stream",
     "text": [
      "choices=[Choices(message=Messages(role='assistant', content='Hello! How can I assist you today?', function_call=None, name=None, attachments=None, data_for_context=None, functions_state_id='f97b6762-9b33-4312-9e4b-c670e2454072', id_=None), index=0, finish_reason='stop')] created=1735908283 model='GigaChat:1.0.26.20' usage=Usage(prompt_tokens=107, completion_tokens=14, total_tokens=121) object_='chat.completion'\n"
     ]
    }
   ],
   "source": [
    "messages = [\n",
    "    {\n",
    "        \"role\": \"user\",\n",
    "        \"content\": \"hi!\",\n",
    "    }\n",
    "]\n",
    "response = get_completition(messages, functions, function_call='auto')\n",
    "print(response)"
   ]
  },
  {
   "cell_type": "markdown",
   "id": "284088e9",
   "metadata": {},
   "source": [
    "* Use mode 'none' for function call."
   ]
  },
  {
   "cell_type": "code",
   "execution_count": 132,
   "id": "6ba8cafc-f785-4595-9e3c-48b06424ee8b",
   "metadata": {
    "height": 268
   },
   "outputs": [
    {
     "name": "stdout",
     "output_type": "stream",
     "text": [
      "choices=[Choices(message=Messages(role='assistant', content='Hello! How can I assist you today?', function_call=None, name=None, attachments=None, data_for_context=None, functions_state_id=None, id_=None), index=0, finish_reason='stop')] created=1735908260 model='GigaChat:1.0.26.20' usage=Usage(prompt_tokens=13, completion_tokens=10, total_tokens=23) object_='chat.completion'\n"
     ]
    }
   ],
   "source": [
    "messages = [\n",
    "    {\n",
    "        \"role\": \"user\",\n",
    "        \"content\": \"hi!\",\n",
    "    }\n",
    "]\n",
    "response = get_completition(messages, functions, function_call='none')\n",
    "print(response)"
   ]
  },
  {
   "cell_type": "markdown",
   "id": "ae05a76e",
   "metadata": {},
   "source": [
    "* When the message should call a function and still uses mode 'none'."
   ]
  },
  {
   "cell_type": "code",
   "execution_count": 139,
   "id": "ca7cc5a7-1572-4171-9016-9ec2871d389b",
   "metadata": {
    "height": 268
   },
   "outputs": [
    {
     "name": "stdout",
     "output_type": "stream",
     "text": [
      "choices=[Choices(message=Messages(role='assistant', content=\"I can't provide information about the current weather or forecasts as I don't have access to real-time data. However, you can check the weather for Boston using a weather app, website, or by asking a virtual assistant that has access to such information.\", function_call=None, name=None, attachments=None, data_for_context=None, functions_state_id=None, id_=None), index=0, finish_reason='stop')] created=1735909199 model='GigaChat:1.0.26.20' usage=Usage(prompt_tokens=19, completion_tokens=56, total_tokens=75) object_='chat.completion'\n"
     ]
    }
   ],
   "source": [
    "messages = [\n",
    "    {\n",
    "        \"role\": \"user\",\n",
    "        \"content\": \"What's the weather in Boston?\",\n",
    "    }\n",
    "]\n",
    "response = get_completition(messages, functions, function_call='none')\n",
    "print(response)"
   ]
  },
  {
   "cell_type": "markdown",
   "id": "38735d9f",
   "metadata": {},
   "source": [
    "* Force calling a function."
   ]
  },
  {
   "cell_type": "code",
   "execution_count": 137,
   "id": "282a92ba-5677-4c72-b556-d29e6a4152a0",
   "metadata": {
    "height": 268
   },
   "outputs": [
    {
     "data": {
      "text/plain": [
       "'\\nmessages = [\\n    {\\n        \"role\": \"user\",\\n        \"content\": \"hi!\",\\n    }\\n]\\nresponse = get_completition(\\n                messages, \\n                functions, \\n                function_call={\\'name\\': \\'get_current_weather\\'})\\n\\nprint(response)\\n'"
      ]
     },
     "execution_count": 137,
     "metadata": {},
     "output_type": "execute_result"
    }
   ],
   "source": [
    "# Такая функция в GigaChat в таком виде не работает\n",
    "# Суть, что функция получения погоды из промпта работает в принудительном \n",
    "# порядке, и даже если там ничего нет, то аргументы всё равно будут найдены\n",
    "# (в лекции были моделью найдены те значения, которые были указаны в описании)\n",
    "\n",
    "\"\"\"\n",
    "messages = [\n",
    "    {\n",
    "        \"role\": \"user\",\n",
    "        \"content\": \"hi!\",\n",
    "    }\n",
    "]\n",
    "response = get_completition(\n",
    "                messages, \n",
    "                functions, \n",
    "                function_call={'name': 'get_current_weather'})\n",
    "\n",
    "print(response)\n",
    "\"\"\""
   ]
  },
  {
   "cell_type": "markdown",
   "id": "b27abbdc",
   "metadata": {},
   "source": [
    "* Final notes."
   ]
  },
  {
   "cell_type": "code",
   "execution_count": 27,
   "id": "ab766467",
   "metadata": {},
   "outputs": [
    {
     "name": "stdout",
     "output_type": "stream",
     "text": [
      "choices=[Choices(message=Messages(role='assistant', content='', function_call=FunctionCall(name='get_current_weather', arguments={'location': 'Boston'}), name=None, attachments=None, data_for_context=None, functions_state_id='a0fdc22e-9d6c-4d3b-99f3-ce1e71b713bc', id_=None), index=0, finish_reason='function_call')] created=1735912599 model='GigaChat:1.0.26.20' usage=Usage(prompt_tokens=113, completion_tokens=29, total_tokens=142) object_='chat.completion'\n"
     ]
    }
   ],
   "source": [
    "messages = [\n",
    "    {\n",
    "        \"role\": \"user\",\n",
    "        \"content\": \"What's the weather in Boston?\",\n",
    "    }\n",
    "]\n",
    "response = get_completition(messages, functions, function_call='auto')\n",
    "print(response)"
   ]
  },
  {
   "cell_type": "code",
   "execution_count": 28,
   "id": "c817376f-3a7f-4448-acdd-1639c70d42e4",
   "metadata": {
    "height": 64
   },
   "outputs": [],
   "source": [
    "args = response.choices[0].message.function_call.arguments\n",
    "observation = get_current_weather(**args)"
   ]
  },
  {
   "cell_type": "code",
   "execution_count": 33,
   "id": "63454808-10a2-4301-9977-89aa79018152",
   "metadata": {
    "height": 133
   },
   "outputs": [],
   "source": [
    "messages.append(\n",
    "        Messages(\n",
    "            role= MessagesRole.ASSISTANT,\n",
    "            content=json.dumps({'result': observation}),\n",
    "        )\n",
    ")"
   ]
  },
  {
   "cell_type": "code",
   "execution_count": 34,
   "id": "f323fb69-c907-4f19-a2d9-80d828b4a5c2",
   "metadata": {
    "height": 99
   },
   "outputs": [
    {
     "name": "stdout",
     "output_type": "stream",
     "text": [
      "choices=[Choices(message=Messages(role='assistant', content='\\n\\nВ Бостоне сейчас **22 градуса Цельсия** и солнечно. Ветер также присутствует.', function_call=None, name=None, attachments=None, data_for_context=None, functions_state_id=None, id_=None), index=0, finish_reason='stop')] created=1735912653 model='GigaChat:1.0.26.20' usage=Usage(prompt_tokens=66, completion_tokens=25, total_tokens=91) object_='chat.completion'\n"
     ]
    }
   ],
   "source": [
    "response = response = get_completition(messages, functions, function_call='auto')\n",
    "print(response)"
   ]
  },
  {
   "cell_type": "code",
   "execution_count": 35,
   "id": "bf4bedc6-6342-4d69-9e19-181d2b0aa243",
   "metadata": {
    "height": 31
   },
   "outputs": [
    {
     "name": "stdout",
     "output_type": "stream",
     "text": [
      "choices=[Choices(message=Messages(role='assistant', content='\\n\\nТакой ответ указывает на то, что погодные условия в Санкт-Петербурге аналогичны тем, которые были заданы для Бостона: температура около 22 градусов и переменная облачность с ветром.', function_call=None, name=None, attachments=None, data_for_context=None, functions_state_id=None, id_=None), index=0, finish_reason='stop')] created=1735912771 model='GigaChat:1.0.26.20' usage=Usage(prompt_tokens=207, completion_tokens=48, total_tokens=255) object_='chat.completion'\n"
     ]
    }
   ],
   "source": [
    "messages = [\n",
    "    {\n",
    "        \"role\": \"user\",\n",
    "        \"content\": \"Какая погода в Boston?\",\n",
    "    }\n",
    "]\n",
    "response = get_completition(messages, functions, function_call='auto')\n",
    "\n",
    "args = response.choices[0].message.function_call.arguments\n",
    "observation = get_current_weather(**args)\n",
    "\n",
    "messages.append(\n",
    "        Messages(\n",
    "            role= MessagesRole.ASSISTANT,\n",
    "            content=json.dumps({'result': observation}),\n",
    "        )\n",
    ")\n",
    "messages.append(\n",
    "        Messages(\n",
    "            role= MessagesRole.USER,\n",
    "            content=\"А в Санкт-Петербурге?\",\n",
    "        )\n",
    ")\n",
    "\n",
    "response = get_completition(messages, functions, function_call='auto')\n",
    "\n",
    "args = response.choices[0].message.function_call.arguments\n",
    "observation = get_current_weather(**args)\n",
    "messages.append(\n",
    "        Messages(\n",
    "            role= MessagesRole.ASSISTANT,\n",
    "            content=json.dumps({'result': observation}),\n",
    "        )\n",
    ")\n",
    "response = response = get_completition(messages, functions, function_call='auto')\n",
    "print(response)"
   ]
  },
  {
   "cell_type": "code",
   "execution_count": 37,
   "id": "9a7702f2-cee6-4649-a662-6d1dc9d49e0c",
   "metadata": {
    "height": 31
   },
   "outputs": [
    {
     "data": {
      "text/plain": [
       "'\\n\\nТакой ответ указывает на то, что погодные условия в Санкт-Петербурге аналогичны тем, которые были заданы для Бостона: температура около 22 градусов и переменная облачность с ветром.'"
      ]
     },
     "execution_count": 37,
     "metadata": {},
     "output_type": "execute_result"
    }
   ],
   "source": [
    "response.choices[0].message.content"
   ]
  }
 ],
 "metadata": {
  "kernelspec": {
   "display_name": "base",
   "language": "python",
   "name": "python3"
  },
  "language_info": {
   "codemirror_mode": {
    "name": "ipython",
    "version": 3
   },
   "file_extension": ".py",
   "mimetype": "text/x-python",
   "name": "python",
   "nbconvert_exporter": "python",
   "pygments_lexer": "ipython3",
   "version": "3.11.5"
  }
 },
 "nbformat": 4,
 "nbformat_minor": 5
}
