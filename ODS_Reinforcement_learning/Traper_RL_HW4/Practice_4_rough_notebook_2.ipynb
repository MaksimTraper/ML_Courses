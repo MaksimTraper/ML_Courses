{
 "cells": [
  {
   "cell_type": "code",
   "execution_count": 1,
   "metadata": {},
   "outputs": [],
   "source": [
    "import torch\n",
    "import torch.nn as nn\n",
    "import gym\n",
    "import time\n",
    "import numpy as np\n",
    "import matplotlib.pyplot as plt"
   ]
  },
  {
   "cell_type": "markdown",
   "metadata": {},
   "source": [
    "### $\\varepsilon$-Greedy Policy:\n",
    "$$\n",
    "\\begin{array}{l}\n",
    "\\pi(a|s) =\n",
    "\\left\\{\n",
    "\\begin{array}{ll}\n",
    "1 - \\varepsilon + \\varepsilon / m,& \\text{ если } a \\in \\mathrm{argmax}_{a' \\in \\mathcal{A}}\\, Q(s,a'),\\\\\n",
    "\\varepsilon / m,& \\text{ иначе }\n",
    "\\end{array}\n",
    "\\right.\n",
    "\\end{array}\n",
    "$$"
   ]
  },
  {
   "cell_type": "code",
   "execution_count": 3,
   "metadata": {
    "ExecuteTime": {
     "end_time": "2020-11-12T11:19:37.246247Z",
     "start_time": "2020-11-12T11:19:37.229583Z"
    }
   },
   "outputs": [],
   "source": [
    "def get_epsilon_greedy_action(q_values, epsilon, action_n):\n",
    "    prob = np.ones(action_n) * epsilon / action_n\n",
    "    argmax_action = np.argmax(q_values)\n",
    "    prob[argmax_action] += 1 - epsilon\n",
    "    action = np.random.choice(np.arange(action_n), p=prob)\n",
    "    return action"
   ]
  },
  {
   "cell_type": "markdown",
   "metadata": {},
   "source": [
    "### Monte-Carlo Algorithm\n",
    "\n",
    "Пусть $Q(s,a) = 0$, $N(s,a) = 0$ и $\\varepsilon = 1$.\n",
    "\n",
    "Для каждого эпизода $k \\in \\overline{1,K}$ делаем:\n",
    "\n",
    "1. Согласно $\\pi = \\varepsilon\\text{-greedy}(Q)$ получаем траекторию $\\tau = (S_0,A_0,\\ldots,S_T)$ и награды $(R_0,\\ldots,R_{T-1})$. По ним определяем $(G_0,\\ldots,G_{T-1}):$\n",
    "$$\n",
    "G_t = \\sum\\limits_{k=t}^{T-1} \\gamma^{k-t} R_t,\\quad G_{T-1} = R_{T-1},\\quad G_{T-2} = R_{T-2} + \\gamma R_{T-1},\\quad G_i = R_i + \\gamma G_{i+1},\\quad G_{T} = Q(S_T,\\pi_{greedy}(S_T)).\n",
    "$$\n",
    "\n",
    "2. Для каждого $t \\in \\overline{0,T-1}$ обновляем $Q$ и $N$:\n",
    "\n",
    "$$\n",
    "Q(S_t,A_t) \\leftarrow Q(S_t,A_t) + \\frac{1}{N(S_t,A_t) + 1}\\big(G_t - Q(S_t,A_t)\\big),\n",
    "$$\n",
    "\n",
    "$$\n",
    "N(S_t,A_t) \\leftarrow N(S_t,A_t) + 1\n",
    "$$\n",
    "Уменьшаем $\\varepsilon$\n"
   ]
  },
  {
   "cell_type": "code",
   "execution_count": 123,
   "metadata": {
    "ExecuteTime": {
     "end_time": "2020-11-12T12:16:33.347329Z",
     "start_time": "2020-11-12T12:16:33.314057Z"
    }
   },
   "outputs": [],
   "source": [
    "def MonteCarlo(env, state_n, action_n, episode_n, epsilon_fun, trajectory_len=500, gamma=0.99):\n",
    "    q_values = np.zeros((state_n, action_n))\n",
    "    counters = np.zeros((state_n, action_n))\n",
    "\n",
    "    total_rewards = []\n",
    "    for episode in range(1, episode_n):\n",
    "        last_reward = 0\n",
    "        if len(total_rewards) > 0:\n",
    "            last_reward = total_rewards[-1]\n",
    "\n",
    "        epsilon = epsilon_fun(episode, episode_n, last_reward=last_reward, total_rewards=total_rewards)\n",
    "\n",
    "        trajectory = {'states': [], 'actions': [], 'rewards': []}\n",
    "\n",
    "        state = env.reset()\n",
    "        for t in range(trajectory_len):\n",
    "            action = get_epsilon_greedy_action(q_values[state], epsilon, action_n)\n",
    "            next_state, reward, done, _ = env.step(action)\n",
    "\n",
    "            trajectory['states'].append(state)\n",
    "            trajectory['actions'].append(action)\n",
    "            trajectory['rewards'].append(reward)\n",
    "\n",
    "            state = next_state\n",
    "\n",
    "            if done:\n",
    "                break\n",
    "\n",
    "        total_rewards.append(np.sum(trajectory['rewards']))\n",
    "\n",
    "        real_trajectory_len = len(trajectory['rewards'])\n",
    "        returns = np.zeros(real_trajectory_len + 1)\n",
    "        for t in range(real_trajectory_len - 1, -1, -1):\n",
    "            returns[t] = trajectory['rewards'][t] + gamma * returns[t + 1]\n",
    "\n",
    "        for t in range(real_trajectory_len):\n",
    "            state = trajectory['states'][t]\n",
    "            action = trajectory['actions'][t]\n",
    "            counters[state][action] += 1\n",
    "            q_values[state][action] += (returns[t] - q_values[state][action]) / counters[state][action]\n",
    "\n",
    "    return total_rewards"
   ]
  },
  {
   "cell_type": "code",
   "execution_count": 27,
   "metadata": {},
   "outputs": [],
   "source": [
    "def moving_average(data, window):\n",
    "    return np.convolve(data, np.ones(window) / window, mode='valid')"
   ]
  },
  {
   "cell_type": "code",
   "execution_count": 28,
   "metadata": {},
   "outputs": [],
   "source": [
    "env = gym.make(\"Taxi-v3\")\n",
    "state_n, action_n = env.observation_space.n, env.action_space.n"
   ]
  },
  {
   "cell_type": "code",
   "execution_count": null,
   "metadata": {},
   "outputs": [],
   "source": [
    "window = 10\n",
    "\n",
    "def plot_results(MonteCarloDict):\n",
    "\n",
    "    for label, MonteCarlo_total_rewards in MonteCarloDict.items():\n",
    "        MonteCarlo_trajectories = np.arange(1, len(MonteCarlo_total_rewards) + 1)\n",
    "        plt.plot(MonteCarlo_trajectories[:len(moving_average(MonteCarlo_total_rewards, window))], moving_average(MonteCarlo_total_rewards, window), label=label)\n",
    "\n",
    "    plt.legend()\n",
    "    plt.grid()\n",
    "    plt.title('Сравнение различных алгоритмов выбора эпсилон в методе Monte-Carlo')\n",
    "    plt.xlabel('№ траектории')\n",
    "    plt.ylabel('Награда')\n",
    "    plt.show()"
   ]
  },
  {
   "cell_type": "code",
   "execution_count": 92,
   "metadata": {},
   "outputs": [],
   "source": [
    "dict = {}"
   ]
  },
  {
   "cell_type": "code",
   "execution_count": 96,
   "metadata": {},
   "outputs": [],
   "source": [
    "def calculate_epsilon(episode, episode_n, last_reward):\n",
    "    epsilon = 1 - episode / episode_n\n",
    "    return epsilon\n",
    "\n",
    "dict['1 - episode/episode_n'] = (MonteCarlo(env, epsilon_fun=calculate_epsilon, state_n=state_n, action_n=action_n, episode_n=2000, trajectory_len=1000, gamma=0.99))"
   ]
  },
  {
   "cell_type": "code",
   "execution_count": 97,
   "metadata": {},
   "outputs": [],
   "source": [
    "def calculate_epsilon(episode, episode_n, last_reward):\n",
    "    epsilon = 1 / episode\n",
    "    return epsilon\n",
    "\n",
    "dict['1/k'] = (MonteCarlo(env, state_n=state_n, action_n=action_n, epsilon_fun=calculate_epsilon, episode_n=2000, trajectory_len=1000, gamma=0.99))"
   ]
  },
  {
   "cell_type": "code",
   "execution_count": 98,
   "metadata": {},
   "outputs": [],
   "source": [
    "def calculate_epsilon(episode, episode_n, last_reward):\n",
    "    epsilon = max(0.1, 1 - episode / (episode_n * 1.5))\n",
    "    return epsilon\n",
    "\n",
    "dict['max(0.1, 1 - episode / (episode_n * 1.5))'] = (MonteCarlo(env, state_n=state_n, action_n=action_n, epsilon_fun=calculate_epsilon, episode_n=2000, trajectory_len=1000, gamma=0.99))"
   ]
  },
  {
   "cell_type": "code",
   "execution_count": 99,
   "metadata": {},
   "outputs": [],
   "source": [
    "def calculate_epsilon(episode, episode_n, last_reward):\n",
    "    epsilon = (episode_n - episode) / episode_n\n",
    "    return epsilon\n",
    "\n",
    "dict['(episode_n - episode) / episode_n'] = (MonteCarlo(env, state_n=state_n, action_n=action_n, epsilon_fun=calculate_epsilon, episode_n=2000, trajectory_len=1000, gamma=0.99))"
   ]
  },
  {
   "cell_type": "code",
   "execution_count": 100,
   "metadata": {},
   "outputs": [],
   "source": [
    "def calculate_epsilon(episode, episode_n, last_reward):\n",
    "    epsilon = 0.1 + (1 - 0.1) * np.e**(-0.01*episode)\n",
    "    return epsilon\n",
    "\n",
    "dict['0.1 + (1 - 0.1) * np.e**(-0.01*episode)'] = (MonteCarlo(env, state_n=state_n, action_n=action_n, epsilon_fun=calculate_epsilon, episode_n=2000, trajectory_len=1000, gamma=0.99))"
   ]
  },
  {
   "cell_type": "code",
   "execution_count": 101,
   "metadata": {},
   "outputs": [],
   "source": [
    "def calculate_epsilon(episode, episode_n, last_reward):\n",
    "    epsilon = min(0.1, 1 - 2*last_reward/500)\n",
    "    return epsilon\n",
    "\n",
    "dict['min(0.1, 1 - 2*last_reward/500)'] = (MonteCarlo(env, state_n=state_n, action_n=action_n, epsilon_fun=calculate_epsilon, episode_n=2000, trajectory_len=1000, gamma=0.99))"
   ]
  },
  {
   "cell_type": "code",
   "execution_count": 102,
   "metadata": {},
   "outputs": [],
   "source": [
    "def calculate_epsilon(episode, episode_n, last_reward):\n",
    "    epsilon_decay = 1 - episode / episode_n  # уменьшение с каждым эпизодом\n",
    "    epsilon_reward_based = 1 - 2 * last_reward / 500\n",
    "    epsilon = min(0.1, max(epsilon_decay, epsilon_reward_based))\n",
    "    return epsilon\n",
    "\n",
    "dict['min(0.1, 1 - max(1 - episode / episode_n, 1 - 2 * last_reward / 500)'] = (MonteCarlo(env, state_n=state_n, action_n=action_n, epsilon_fun=calculate_epsilon, episode_n=2000, trajectory_len=1000, gamma=0.99))"
   ]
  },
  {
   "cell_type": "code",
   "execution_count": 124,
   "metadata": {},
   "outputs": [
    {
     "name": "stderr",
     "output_type": "stream",
     "text": [
      "c:\\ProgramData\\anaconda3\\Lib\\site-packages\\numpy\\core\\fromnumeric.py:3464: RuntimeWarning: Mean of empty slice.\n",
      "  return _methods._mean(a, axis=axis, dtype=dtype,\n",
      "c:\\ProgramData\\anaconda3\\Lib\\site-packages\\numpy\\core\\_methods.py:192: RuntimeWarning: invalid value encountered in scalar divide\n",
      "  ret = ret.dtype.type(ret / rcount)\n"
     ]
    }
   ],
   "source": [
    "def calculate_epsilon(episode, episode_n, last_reward, total_rewards):\n",
    "    epsilon = min(0.1, 1 - 2*np.mean(total_rewards[:-10])/500)\n",
    "    return epsilon\n",
    "\n",
    "dict['min(0.1, 1 - 2*np.mean(total_rewards[:-10])/500)'] = (MonteCarlo(env, state_n=state_n, action_n=action_n, epsilon_fun=calculate_epsilon, episode_n=2000, trajectory_len=1000, gamma=0.99))"
   ]
  },
  {
   "cell_type": "code",
   "execution_count": 126,
   "metadata": {},
   "outputs": [
    {
     "name": "stderr",
     "output_type": "stream",
     "text": [
      "c:\\ProgramData\\anaconda3\\Lib\\site-packages\\numpy\\core\\fromnumeric.py:3464: RuntimeWarning: Mean of empty slice.\n",
      "  return _methods._mean(a, axis=axis, dtype=dtype,\n",
      "c:\\ProgramData\\anaconda3\\Lib\\site-packages\\numpy\\core\\_methods.py:192: RuntimeWarning: invalid value encountered in scalar divide\n",
      "  ret = ret.dtype.type(ret / rcount)\n"
     ]
    }
   ],
   "source": [
    "def calculate_epsilon(episode, episode_n, last_reward, total_rewards):\n",
    "    epsilon = min(0.1, 1 - 2*np.mean(total_rewards[:-100])/500)\n",
    "    return epsilon\n",
    "\n",
    "dict['min(0.1, 1 - 2*np.mean(total_rewards[:-100])/500)'] = (MonteCarlo(env, state_n=state_n, action_n=action_n, epsilon_fun=calculate_epsilon, episode_n=2000, trajectory_len=1000, gamma=0.99))"
   ]
  },
  {
   "cell_type": "code",
   "execution_count": 139,
   "metadata": {},
   "outputs": [
    {
     "name": "stderr",
     "output_type": "stream",
     "text": [
      "c:\\ProgramData\\anaconda3\\Lib\\site-packages\\numpy\\core\\fromnumeric.py:3464: RuntimeWarning: Mean of empty slice.\n",
      "  return _methods._mean(a, axis=axis, dtype=dtype,\n",
      "c:\\ProgramData\\anaconda3\\Lib\\site-packages\\numpy\\core\\_methods.py:192: RuntimeWarning: invalid value encountered in scalar divide\n",
      "  ret = ret.dtype.type(ret / rcount)\n"
     ]
    }
   ],
   "source": [
    "def calculate_epsilon(episode, episode_n, last_reward, total_rewards):\n",
    "    epsilon = min(0.0001, 1 - np.mean(total_rewards[:-100])/500)\n",
    "    return epsilon\n",
    "\n",
    "dict['min(0.0001, np.mean(total_rewards[:-100])/500)'] = (MonteCarlo(env, state_n=state_n, action_n=action_n, epsilon_fun=calculate_epsilon, episode_n=2000, trajectory_len=1000, gamma=0.99))"
   ]
  },
  {
   "cell_type": "code",
   "execution_count": 145,
   "metadata": {},
   "outputs": [],
   "source": [
    "def calculate_epsilon(episode, episode_n, last_reward, total_rewards):\n",
    "    epsilon_max = 1.0\n",
    "    epsilon_min = 0.1\n",
    "    decay_rate = 0.99\n",
    "    epsilon = epsilon_max * (decay_rate ** episode)\n",
    "    \n",
    "    avg_reward = np.mean(total_rewards)\n",
    "\n",
    "    # Если награда сильно повысилась, уменьшаем epsilon\n",
    "    if np.mean(total_rewards[:-10]) > avg_reward:\n",
    "        epsilon = max(epsilon_min, epsilon * 0.9)  # уменьшение epsilon\n",
    "    # Если награда низкая, увеличиваем epsilon\n",
    "    elif np.mean(total_rewards[:-10]) < avg_reward:\n",
    "        epsilon = min(epsilon_max, epsilon * 1.1)  # увеличение epsilon\n",
    "    \n",
    "    return epsilon\n",
    "\n",
    "dict['base_on_avg2'] = (MonteCarlo(env, state_n=state_n, action_n=action_n, epsilon_fun=calculate_epsilon, episode_n=2000, trajectory_len=1000, gamma=0.99))"
   ]
  },
  {
   "cell_type": "code",
   "execution_count": 146,
   "metadata": {},
   "outputs": [
    {
     "data": {
      "image/png": "[encoded data removed]",
      "text/plain": [
       "<Figure size 640x480 with 1 Axes>"
      ]
     },
     "metadata": {},
     "output_type": "display_data"
    }
   ],
   "source": [
    "window = 100\n",
    "keys = [\"1/k\", \"1 - episode/episode_n\", 'base_on_avg2']\n",
    "filtered_data = {k: dict[k] for k in keys}\n",
    "plot_results(filtered_data)"
   ]
  },
  {
   "cell_type": "code",
   "execution_count": 115,
   "metadata": {},
   "outputs": [
    {
     "data": {
      "text/plain": [
       "dict_keys(['1 - episode/episode_n', '1/k', 'max(0.1, 1 - episode / (episode_n * 1.5))', '(episode_n - episode) / episode_n', '0.1 + (1 - 0.1) * np.e**(-0.01*episode)', 'min(0.1, 1 - 2*last_reward/500)', 'min(0.1, 1 - max(1 - episode / episode_n, 1 - 2 * last_reward / 500)'])"
      ]
     },
     "execution_count": 115,
     "metadata": {},
     "output_type": "execute_result"
    }
   ],
   "source": [
    "dict.keys()"
   ]
  },
  {
   "cell_type": "code",
   "execution_count": null,
   "metadata": {},
   "outputs": [],
   "source": []
  }
 ],
 "metadata": {
  "hide_input": false,
  "kernelspec": {
   "display_name": "base",
   "language": "python",
   "name": "python3"
  },
  "language_info": {
   "codemirror_mode": {
    "name": "ipython",
    "version": 3
   },
   "file_extension": ".py",
   "mimetype": "text/x-python",
   "name": "python",
   "nbconvert_exporter": "python",
   "pygments_lexer": "ipython3",
   "version": "3.11.5"
  },
  "toc": {
   "base_numbering": 1,
   "nav_menu": {},
   "number_sections": true,
   "sideBar": true,
   "skip_h1_title": false,
   "title_cell": "Table of Contents",
   "title_sidebar": "Contents",
   "toc_cell": false,
   "toc_position": {},
   "toc_section_display": true,
   "toc_window_display": false
  },
  "varInspector": {
   "cols": {
    "lenName": 16,
    "lenType": 16,
    "lenVar": 40
   },
   "kernels_config": {
    "python": {
     "delete_cmd_postfix": "",
     "delete_cmd_prefix": "del ",
     "library": "var_list.py",
     "varRefreshCmd": "print(var_dic_list())"
    },
    "r": {
     "delete_cmd_postfix": ") ",
     "delete_cmd_prefix": "rm(",
     "library": "var_list.r",
     "varRefreshCmd": "cat(var_dic_list()) "
    }
   },
   "types_to_exclude": [
    "module",
    "function",
    "builtin_function_or_method",
    "instance",
    "_Feature"
   ],
   "window_display": false
  }
 },
 "nbformat": 4,
 "nbformat_minor": 4
}
